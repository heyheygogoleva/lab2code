{
 "cells": [
  {
   "cell_type": "markdown",
   "id": "f65d82f9",
   "metadata": {},
   "source": [
    " # МЕТОДЫ ПРОГРАММИРОВАНИЯ. Лабораторная №2 "
   ]
  },
  {
   "cell_type": "markdown",
   "id": "99650c91",
   "metadata": {},
   "source": [
    "## Создаем новые таблицы:"
   ]
  },
  {
   "cell_type": "code",
   "execution_count": 3,
   "id": "c5d5cd07",
   "metadata": {},
   "outputs": [],
   "source": [
    "import random\n",
    "import string\n",
    "import pandas as pd"
   ]
  },
  {
   "cell_type": "code",
   "execution_count": 4,
   "id": "373d2faa",
   "metadata": {},
   "outputs": [],
   "source": [
    "def generate_random_string(length):\n",
    "    letters = string.ascii_lowercase\n",
    "    rand_string = ''.join(random.choice(letters) for i in range(length))\n",
    "    return rand_string"
   ]
  },
  {
   "cell_type": "code",
   "execution_count": 5,
   "id": "e49514ed",
   "metadata": {},
   "outputs": [],
   "source": [
    "def make_table(n):\n",
    "    full_names = []\n",
    "    ranks = []\n",
    "    numbers = []\n",
    "    ages = []\n",
    "    for i in range(n):\n",
    "        name_lenghth = random.randint(10, 25)\n",
    "        rank_length = random.randint(8, 16)\n",
    "        full_names.append(generate_random_string(name_lenghth))\n",
    "        ranks.append(generate_random_string(rank_length))\n",
    "        numbers.append(random.randint(1, 20))\n",
    "        ages.append(random.randint(20, 65))\n",
    "    table_name = '/Users/sofia/Desktop/учеба/3 курс/методы проги/лаба2/table' + str(n) + '.csv'  \n",
    "    df = pd.DataFrame({'ФИО': full_names, 'звание': ranks, 'номер роты': numbers, 'возраст': ages})\n",
    "    df.to_csv(table_name, index= False)\n",
    "    print(table_name)   "
   ]
  },
  {
   "cell_type": "code",
   "execution_count": 36,
   "id": "1fff6f18",
   "metadata": {
    "scrolled": true
   },
   "outputs": [
    {
     "name": "stdout",
     "output_type": "stream",
     "text": [
      "/Users/sofia/Desktop/учеба/3 курс/методы проги/лаба2/table100.csv\n",
      "/Users/sofia/Desktop/учеба/3 курс/методы проги/лаба2/table500.csv\n",
      "/Users/sofia/Desktop/учеба/3 курс/методы проги/лаба2/table1000.csv\n",
      "/Users/sofia/Desktop/учеба/3 курс/методы проги/лаба2/table5000.csv\n",
      "/Users/sofia/Desktop/учеба/3 курс/методы проги/лаба2/table10000.csv\n",
      "/Users/sofia/Desktop/учеба/3 курс/методы проги/лаба2/table50000.csv\n",
      "/Users/sofia/Desktop/учеба/3 курс/методы проги/лаба2/table100000.csv\n",
      "/Users/sofia/Desktop/учеба/3 курс/методы проги/лаба2/table200000.csv\n"
     ]
    }
   ],
   "source": [
    "ns = [100, 500, 1000, 5000, 10000, 50000, 100000, 200000]\n",
    "for i in ns:\n",
    "    make_table(i)"
   ]
  },
  {
   "cell_type": "markdown",
   "id": "26279a61",
   "metadata": {},
   "source": [
    "## Считываем таблицы:"
   ]
  },
  {
   "cell_type": "code",
   "execution_count": 8,
   "id": "196ae810",
   "metadata": {},
   "outputs": [],
   "source": [
    "def read_table(n):\n",
    "    tables = []\n",
    "    for i in n:\n",
    "        table_name = 'table' + str(i) + '.csv'\n",
    "        table_from = pd.read_csv(table_name)\n",
    "        tables.append(table_from)\n",
    "    return tables"
   ]
  },
  {
   "cell_type": "code",
   "execution_count": 9,
   "id": "7ae34cc8",
   "metadata": {},
   "outputs": [],
   "source": [
    "tables = read_table(ns)"
   ]
  },
  {
   "cell_type": "markdown",
   "id": "87863250",
   "metadata": {},
   "source": [
    "##  Переделываем таблицы в классы"
   ]
  },
  {
   "cell_type": "code",
   "execution_count": 10,
   "id": "ce912aa4",
   "metadata": {},
   "outputs": [],
   "source": [
    "class Table:\n",
    "    def __init__(self, raw: pd.core.series.Series):\n",
    "        self.name = raw[0]\n",
    "        self.status = raw[1]\n",
    "        self.number = raw[2]\n",
    "        self.age = raw[3]\n",
    "        \n",
    "    def __eq__(self, other): #x = y\n",
    "        if self.name == other.name:\n",
    "            if self.status == other.status:\n",
    "                if self.number == other.number:\n",
    "                    if self.age == other.age:\n",
    "                        return True\n",
    "        return False\n",
    "    \n",
    "    def __ne__(self, other): #x != y\n",
    "        if self == other:\n",
    "            return False\n",
    "        else:\n",
    "            return True\n",
    "        \n",
    "    def __lt__(self, other): #x < y\n",
    "        if self.status < other.status:\n",
    "            return True\n",
    "        elif self.status == other.status:\n",
    "            if self.name < other.name:\n",
    "                return True\n",
    "            elif self.name == other.name:\n",
    "                if self.number < other.number:\n",
    "                    return True\n",
    "        return False\n",
    "    \n",
    "    def __gt__(self, other): #x > y\n",
    "        if self.status > other.status:\n",
    "            return True\n",
    "        elif self.status == other.status:\n",
    "            if self.name > other.name:\n",
    "                return True\n",
    "            elif self.name == other.name:\n",
    "                if self.number > other.number:\n",
    "                    return True\n",
    "        return False\n",
    "    \n",
    "    def __le__(self, other): #x <= y\n",
    "        if (self < other) or (self == other):\n",
    "            return True\n",
    "        else:\n",
    "            return False\n",
    "        \n",
    "    def __ge__(self, other): #x >= y\n",
    "        if (self > other) or (self == other):\n",
    "            return True\n",
    "        else:\n",
    "            return False"
   ]
  },
  {
   "cell_type": "code",
   "execution_count": 11,
   "id": "f22a8401",
   "metadata": {},
   "outputs": [],
   "source": [
    "def table_to_class(pds):\n",
    "    objects = []\n",
    "    for pd in pds:\n",
    "        x = []\n",
    "        for i in range(len(pd)):\n",
    "            ob = Table(pd.iloc[i])\n",
    "            x.append(ob)\n",
    "        objects.append(x)\n",
    "    return objects"
   ]
  },
  {
   "cell_type": "code",
   "execution_count": 12,
   "id": "cadd4992",
   "metadata": {},
   "outputs": [],
   "source": [
    "for_sort = table_to_class(tables)"
   ]
  },
  {
   "cell_type": "markdown",
   "id": "de2650fc",
   "metadata": {},
   "source": [
    "##  Самая быстрая сортировка"
   ]
  },
  {
   "cell_type": "code",
   "execution_count": 13,
   "id": "70745f9a",
   "metadata": {},
   "outputs": [],
   "source": [
    "# пирамидальная сортировка\n",
    "import sys\n",
    "sys.setrecursionlimit(1000000)\n",
    "\n",
    "def change_pose(x, i, n): # сравнимает iый элемент с его дочерними \n",
    "    # n - первые n элементов, которые нужны учитывать\n",
    "    i_left = 2 * i + 1 # левый дочерний узел\n",
    "    i_right = 2* i + 2 # правый дочерний узел\n",
    "    i_maxi = i\n",
    "    if i_left <= n and x[i_left] > x[i_maxi]: # !! <=n - входит в нужный нам диапазон\n",
    "        i_maxi = i_left\n",
    "    if i_right <= n and x[i_right] > x[i_maxi]: # !! <=n - входит в первые n  элементов списка\n",
    "        i_maxi = i_right\n",
    "        \n",
    "    if i_maxi == i: # поменялось ли значение\n",
    "        return\n",
    "    else:\n",
    "        x[i_maxi], x[i] = x[i], x[i_maxi] # меняем с одним из дочерних (макс) узлов\n",
    "        change_pose(x, i_maxi, n) # продолжаем процедуру для нового положения узла - для ноого списка\n",
    "        \n",
    "def make_tree(x):\n",
    "    middle = len(x) // 2\n",
    "    for i in reversed(range(0, middle+1)):\n",
    "        change_pose(x, i, len(x)-1)\n",
    "\n",
    "def pyramid_sort(arr):\n",
    "    x = arr.copy()\n",
    "    start = time()\n",
    "    make_tree(x) # строим пирамиду / дерево\n",
    "    for i in reversed(range(0, len(x))): # идем с конца в начало\n",
    "        x[0], x[i] = x[i], x[0]\n",
    "        change_pose(x, 0, i-1)\n",
    "    end = time()\n",
    "    period = end - start\n",
    "    return x, period"
   ]
  },
  {
   "cell_type": "markdown",
   "id": "82040915",
   "metadata": {},
   "source": [
    "##  Прямой поиск"
   ]
  },
  {
   "cell_type": "code",
   "execution_count": 14,
   "id": "60066cde",
   "metadata": {},
   "outputs": [],
   "source": [
    "def line_search(lst_f, size, key):\n",
    "    for i in lst_f:\n",
    "        if i.status == key:\n",
    "            return"
   ]
  },
  {
   "cell_type": "markdown",
   "id": "dc4f9841",
   "metadata": {},
   "source": [
    "##  Бинарный поиск"
   ]
  },
  {
   "cell_type": "code",
   "execution_count": 15,
   "id": "a60eb2b7",
   "metadata": {},
   "outputs": [],
   "source": [
    "def bin_search(lst_f, start, end, key):\n",
    "    mid = 0\n",
    "    while (1):\n",
    "        mid = (start + end) // 2\n",
    "        if key < lst_f[mid].status:\n",
    "            end = mid - 1\n",
    "        elif key > lst_f[mid].status:\n",
    "            start = mid + 1\n",
    "        else:\n",
    "            return"
   ]
  },
  {
   "cell_type": "markdown",
   "id": "e1c4eb79",
   "metadata": {},
   "source": [
    "## Ассоциативый массив"
   ]
  },
  {
   "cell_type": "code",
   "execution_count": 16,
   "id": "d1b8252d",
   "metadata": {},
   "outputs": [],
   "source": [
    "from collections import defaultdict\n",
    "\n",
    "def make_dict(lst_f):\n",
    "    mas_dict = defaultdict(list)\n",
    "    for i in lst_f:\n",
    "        mas_dict[i.status].append(i)\n",
    "    return mas_dict"
   ]
  },
  {
   "cell_type": "markdown",
   "id": "454978bf",
   "metadata": {},
   "source": [
    "## Теперь начинаем сравнение"
   ]
  },
  {
   "cell_type": "code",
   "execution_count": 17,
   "id": "74b8ee05",
   "metadata": {},
   "outputs": [
    {
     "data": {
      "text/plain": [
       "['dwenhonx',\n",
       " 'qmesrkxn',\n",
       " 'efrfvpvyswqalqt',\n",
       " 'knawsjogvotv',\n",
       " 'aoquhihgidxtbm',\n",
       " 'rfpucnnybrkofay',\n",
       " 'zwuxexiyaia',\n",
       " 'wokaqcmt']"
      ]
     },
     "execution_count": 17,
     "metadata": {},
     "output_type": "execute_result"
    }
   ],
   "source": [
    "# выберем ключи для каждого набора элементов\n",
    "keys = []\n",
    "\n",
    "for i in range(len(for_sort)):\n",
    "    key_number = random.randint(0, len(for_sort[i]))\n",
    "    keys.append(for_sort[i][key_number].status)\n",
    "    \n",
    "keys"
   ]
  },
  {
   "cell_type": "code",
   "execution_count": 18,
   "id": "b2e64815",
   "metadata": {},
   "outputs": [],
   "source": [
    "from datetime import datetime\n",
    "from time import time"
   ]
  },
  {
   "cell_type": "code",
   "execution_count": 19,
   "id": "feec9bd6",
   "metadata": {},
   "outputs": [],
   "source": [
    "line_search_time = []\n",
    "binary_search_time = []\n",
    "binary_and_sort_time = []\n",
    "dict_time = []"
   ]
  },
  {
   "cell_type": "markdown",
   "id": "a48c4d39",
   "metadata": {},
   "source": [
    "## Рассчитаем время "
   ]
  },
  {
   "cell_type": "code",
   "execution_count": 20,
   "id": "1b4aac85",
   "metadata": {
    "scrolled": true
   },
   "outputs": [],
   "source": [
    "for i in range(len(for_sort)):\n",
    "    time_start = time()\n",
    "    line_search(for_sort[i], len(for_sort[i]), keys[i])\n",
    "    time_end = time() - time_start\n",
    "    line_search_time.append(time_end)\n",
    "    \n",
    "    time_start = time()\n",
    "    sorted_array = pyramid_sort(for_sort[i])\n",
    "    bin_search(sorted_array[0], 0, len(for_sort[i]), keys[i])\n",
    "    time_end = time() - time_start\n",
    "    binary_and_sort_time.append(time_end)\n",
    "    \n",
    "    time_start = time()\n",
    "    bin_search(sorted_array[0], 0, len(for_sort[i]), keys[i])\n",
    "    time_end = time() - time_start\n",
    "    binary_search_time.append(time_end)\n",
    "    \n",
    "    multimap = make_dict(for_sort[i])\n",
    "    time_start = time()\n",
    "    multimap[keys[i]]\n",
    "    time_end = time() - time_start\n",
    "    dict_time.append(time_end)"
   ]
  },
  {
   "cell_type": "code",
   "execution_count": 29,
   "id": "05ebc85e",
   "metadata": {},
   "outputs": [
    {
     "data": {
      "image/png": "[encoded data removed]",
      "text/plain": [
       "<Figure size 432x288 with 1 Axes>"
      ]
     },
     "metadata": {
      "needs_background": "light"
     },
     "output_type": "display_data"
    }
   ],
   "source": [
    "import matplotlib.pyplot as plt\n",
    "# x - размер - который меняется\n",
    "# y - время - которое мяняется\n",
    "y = ns\n",
    "\n",
    "plt.plot( y, line_search_time,label = 'прямой поиск')\n",
    "plt.plot(y,binary_search_time,  label = 'бинарный поиск по отсортированному')\n",
    "plt.plot( y,binary_and_sort_time, label = 'бинарный поиск + сортировка')\n",
    "plt.plot( y,dict_time, label = 'поиск по multimap')\n",
    "plt.title('Время работы поиска (сек)')\n",
    "plt.xlabel(\"количество объектов\")\n",
    "plt.ylabel(\"время\")\n",
    "plt.legend()\n",
    "plt.show()"
   ]
  },
  {
   "cell_type": "markdown",
   "id": "9516520b",
   "metadata": {},
   "source": [
    "## Графики"
   ]
  },
  {
   "cell_type": "code",
   "execution_count": 30,
   "id": "86b910c0",
   "metadata": {},
   "outputs": [
    {
     "data": {
      "image/png": "[encoded data removed]",
      "text/plain": [
       "<Figure size 432x288 with 1 Axes>"
      ]
     },
     "metadata": {
      "needs_background": "light"
     },
     "output_type": "display_data"
    }
   ],
   "source": [
    "import matplotlib.pyplot as plt\n",
    "# x - размер - который меняется\n",
    "# y - время - которое мяняется\n",
    "y = ns\n",
    "\n",
    "plt.plot( y,line_search_time, label = 'прямой поиск')\n",
    "plt.plot( y, binary_search_time,label = 'бинарный поиск по отсортированному')\n",
    "plt.plot( y,dict_time, label = 'поиск по multimap')\n",
    "plt.title('Время работы поиска (сек)')\n",
    "plt.xlabel(\"количество объектов\")\n",
    "plt.ylabel(\"время\")\n",
    "plt.legend()\n",
    "plt.show()"
   ]
  },
  {
   "cell_type": "code",
   "execution_count": 31,
   "id": "62af9735",
   "metadata": {},
   "outputs": [
    {
     "data": {
      "image/png": "[encoded data removed]",
      "text/plain": [
       "<Figure size 432x288 with 1 Axes>"
      ]
     },
     "metadata": {
      "needs_background": "light"
     },
     "output_type": "display_data"
    }
   ],
   "source": [
    "import matplotlib.pyplot as plt\n",
    "# x - размер - который меняется\n",
    "# y - время - которое мяняется\n",
    "y = ns\n",
    "\n",
    "plt.plot( y,binary_search_time, label = 'бинарный поиск по отсортированному')\n",
    "plt.plot( y, dict_time,label = 'поиск по multimap')\n",
    "plt.title('Время работы поиска (сек)')\n",
    "plt.xlabel(\"количество объектов\")\n",
    "plt.ylabel(\"время\")\n",
    "plt.legend()\n",
    "plt.show()"
   ]
  },
  {
   "cell_type": "code",
   "execution_count": null,
   "id": "53021307",
   "metadata": {},
   "outputs": [],
   "source": []
  }
 ],
 "metadata": {
  "kernelspec": {
   "display_name": "Python 3 (ipykernel)",
   "language": "python",
   "name": "python3"
  },
  "language_info": {
   "codemirror_mode": {
    "name": "ipython",
    "version": 3
   },
   "file_extension": ".py",
   "mimetype": "text/x-python",
   "name": "python",
   "nbconvert_exporter": "python",
   "pygments_lexer": "ipython3",
   "version": "3.9.7"
  }
 },
 "nbformat": 4,
 "nbformat_minor": 5
}
